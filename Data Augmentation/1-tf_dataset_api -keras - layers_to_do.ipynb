{
 "cells": [
  {
   "cell_type": "markdown",
   "metadata": {},
   "source": [
    "# Layers\n",
    "\n",
    "This notebook introduces a set of layers commonly found in CNNs:\n",
    "\n",
    "- Batch Normalization\n",
    "- Dropout\n",
    "- Pooling\n",
    "\n",
    "\n",
    "\n",
    "## References\n",
    "\n",
    "### Batch Normalization\n",
    "- Original paper: Batch Normalization: Accelerating Deep Network Training by Reducing Internal Covariate Shift\n",
    "Sergey Ioffe, Christian Szegedy\n",
    "https://arxiv.org/abs/1502.03167\n",
    "\n",
    "- Video [Why does Batch Norm work?](https://www.youtube.com/watch?v=nUUqwaxLnWs) Andrew Ng\n",
    "\n",
    "- Tensorflow: \n",
    "tf.keras.layers.BatchNormalization\n",
    "https://www.tensorflow.org/api_docs/python/tf/keras/layers/BatchNormalization\n",
    "\n",
    "- [A Gentle Introduction to Batch Normalization for Deep Neural Networks](https://machinelearningmastery.com/batch-normalization-for-training-of-deep-neural-networks/)\n",
    "\n",
    "### Dropout\n",
    "- Original paper: Improving neural networks by preventing co-adaptation of feature detectors (2012)\n",
    "G. E. Hinton∗ , N. Srivastava, A. Krizhevsky, I. Sutskever and R. R. Salakhutdinov\n",
    "https://arxiv.org/pdf/1207.0580.pdf\n",
    "\n",
    "- More evaluation: Dropout: A Simple Way to Prevent Neural Networks from Overfitting (2014)\n",
    "Nitish Srivastava, Geoffrey Hinton, Alex Krizhevsky, Ilya Sutskever, Ruslan Salakhutdinov\n",
    "https://jmlr.org/papers/v15/srivastava14a.html\n",
    "\n",
    "- A Gentler Article: A Gentle Introduction to Dropout for Regularizing Deep Neural Networks (2018)\n",
    "Jason Brownlee\n",
    "https://machinelearningmastery.com/dropout-for-regularizing-deep-neural-networks/\n",
    "\n",
    "- Another Gentle Article: Understanding And Implementing Dropout In TensorFlow And Keras\n",
    "Richmond Alake\n",
    "https://towardsdatascience.com/understanding-and-implementing-dropout-in-tensorflow-and-keras-a8a3a02c1bfa\n",
    "\n",
    "\n",
    "### Pooling\n",
    "\n",
    "- Evaluation of Pooling Operations in Convolutional Architectures for Object Recognition\n",
    "Dominik Scherer, Andreas Muller, and Sven Behnke\n",
    "http://ais.uni-bonn.de/papers/icann2010_maxpool.pdf\n",
    "\n",
    "- An alernative to pooling: Striving for Simplicity: The All Convolutional Net, Jost Tobias Springenberg, Alexey Dosovitskiy, Thomas Brox, Martin Riedmiller, https://arxiv.org/abs/1412.6806\n",
    "\n",
    "- [A Gentle Introduction to Pooling Layers for Convolutional Neural Networks](https://machinelearningmastery.com/pooling-layers-for-convolutional-neural-networks/)\n",
    "\n",
    "\n",
    "### General\n",
    "\n",
    "https://www.tensorflow.org/tutorials/load_data/images\n",
    "\n",
    "https://www.tensorflow.org/api_docs/python/tf/data/Dataset\n",
    "\n",
    "https://www.youtube.com/watch?v=yH1cF7GnoIo    \n",
    "\n",
    "https://www.datacamp.com/community/tutorials/tensorflow-tutorial    \n",
    "\n"
   ]
  },
  {
   "cell_type": "code",
   "execution_count": 1,
   "metadata": {
    "tags": []
   },
   "outputs": [],
   "source": [
    "import tensorflow as tf\n",
    "\n",
    "from tensorflow import keras\n",
    "from tensorflow.keras.models import Sequential, model_from_json\n",
    "from tensorflow.keras.optimizers import SGD, Adam\n",
    "from tensorflow.keras.callbacks import LearningRateScheduler, ModelCheckpoint\n",
    "from tensorflow.keras.layers import LeakyReLU, BatchNormalization, Conv2D, MaxPooling2D, Dense, Activation, Flatten, Dropout\n",
    "\n",
    "import os\n",
    "import pathlib\n",
    "import numpy as np\n",
    "import matplotlib.pyplot as plt\n",
    "\n",
    "from PIL import Image\n",
    "import IPython.display as display\n",
    "\n",
    "BATCH_SIZE = 32\n",
    "IMAGE_SIZE = 32"
   ]
  },
  {
   "cell_type": "markdown",
   "metadata": {},
   "source": [
    "### Auxiliary functions for display purposes only"
   ]
  },
  {
   "cell_type": "code",
   "execution_count": 2,
   "metadata": {},
   "outputs": [],
   "source": [
    "def show_batch(cols, image_batch, label_batch):\n",
    "\n",
    "    rows = int(BATCH_SIZE / cols) \n",
    "    if rows * cols < BATCH_SIZE:\n",
    "        rows += 1\n",
    "    width = 3 * rows\n",
    "    height = 3 * cols\n",
    "    \n",
    "    \n",
    "    f, axes= plt.subplots(rows,cols,figsize=(height,width))\n",
    "    fig=plt.figure()\n",
    "    for n in range(BATCH_SIZE):\n",
    "        \n",
    "        subplot_title=(\"class \"+ classNames[label_batch[n]==1][0])\n",
    "        axes.ravel()[n].set_title(subplot_title)  \n",
    "        axes.ravel()[n].imshow(image_batch[n])\n",
    "        axes.ravel()[n].axis('off')\n",
    "\n",
    "    fig.tight_layout()    \n",
    "    plt.show()\n",
    "    \n",
    "    \n",
    "def show_history(history):\n",
    "    print(history.history.keys())\n",
    "\n",
    "    # summarize history for accuracy\n",
    "    plt.plot(history.history['accuracy'])\n",
    "    plt.plot(history.history['val_accuracy'])\n",
    "    plt.title('model accuracy')\n",
    "    plt.ylabel('accuracy')\n",
    "    plt.xlabel('epoch')\n",
    "    plt.legend(['train', 'val'], loc='lower right')\n",
    "    plt.show()\n",
    "    # summarize history for loss\n",
    "    plt.plot(history.history['loss'])\n",
    "    plt.plot(history.history['val_loss'])\n",
    "    plt.title('model loss')\n",
    "    plt.ylabel('loss')\n",
    "    plt.xlabel('epoch')\n",
    "    plt.legend(['train', 'val'], loc='upper right')\n",
    "    plt.show()    \n",
    "    \n",
    "    \n",
    "def show_accuracies(): \n",
    "    fig, ax = plt.subplots()\n",
    "    X = np.arange(2)\n",
    "\n",
    "    models = ['simple', 'new layers']\n",
    "    plt.bar(X, [evalV1[1], evalV2[1]], width = 0.4, color = 'b', label='test')\n",
    "    plt.bar(X + 0.4, [valV1[1], valV2[1]], color = 'r', width = 0.4, label = \"val\")\n",
    "    plt.xticks(X + 0.4 / 2, models)\n",
    "    plt.ylim(top = 1.0, bottom = 0.80)\n",
    "    plt.legend(loc='upper left')\n",
    "    plt.show()\n",
    "\n",
    "\n",
    "def show_data(s1,l1, s2,l2, labels):\n",
    "    fig, ax = plt.subplots()\n",
    "    X = np.arange(len(s1))\n",
    "\n",
    "    models = labels\n",
    "    plt.bar(X, s1, width = 0.4, color = 'b', label=l1)\n",
    "    plt.bar(X + 0.4, s2, color = 'r', width = 0.4, label = l2)\n",
    "    plt.xticks(X + 0.4 / 2, models)\n",
    "    plt.ylim(top = 100, bottom = 90)\n",
    "    plt.legend(loc='upper left')\n",
    "    plt.show()\n",
    "\n",
    "\n",
    "    \n",
    "def show_misclassified(predictions, ground_truth, images, num_rows= 5, num_cols=3):\n",
    "    \n",
    "    # Plot the first X test images with wrong predictions.\n",
    "    num_images = num_rows*num_cols\n",
    "    plt.figure(figsize=(2*2*num_cols, 2*num_rows))\n",
    "    i = 0\n",
    "    k = 0\n",
    "    while k < len(images) and i < num_images:\n",
    "        predicted_label = np.argmax(predictions[k])\n",
    "        gt = np.where(ground_truth[k])[0][0]\n",
    "        if predicted_label != gt:\n",
    "            plt.subplot(num_rows, 2*num_cols, 2*i+1)\n",
    "            plot_image(k, predictions[k], gt, images)\n",
    "            plt.subplot(num_rows, 2*num_cols, 2*i+2)\n",
    "            plot_value_array(k, predictions[k], ground_truth)\n",
    "            i += 1\n",
    "        k += 1\n",
    "    plt.tight_layout()\n",
    "    plt.show()\n",
    "\n",
    "\n",
    "def plot_image(i, predictions_array, true_label, img):\n",
    "  predictions_array, true_label, img = predictions_array, true_label, img[i]\n",
    "  plt.grid(False)\n",
    "  plt.xticks([])\n",
    "  plt.yticks([])\n",
    "\n",
    "  plt.imshow(img, cmap=plt.cm.binary)\n",
    "\n",
    "  predicted_label = np.argmax(predictions_array)\n",
    "  if predicted_label == true_label:\n",
    "    color = 'blue'\n",
    "  else:\n",
    "    color = 'red'\n",
    "\n",
    "  plt.xlabel(\"{} {:2.0f}% ({})\".format(classNames[predicted_label],\n",
    "                                100*np.max(predictions_array),\n",
    "                                classNames[true_label]),\n",
    "                                color=color)\n",
    "\n",
    "def plot_value_array(i, predictions_array, true_label):\n",
    "  predictions_array, true_label = predictions_array, true_label[i]\n",
    "  plt.grid(False)\n",
    "  plt.xticks(range(8))\n",
    "  plt.yticks([])\n",
    "  thisplot = plt.bar(range(8), predictions_array, color=\"#777777\")\n",
    "  plt.ylim([0, 1])\n",
    "  predicted_label = np.argmax(predictions_array)\n",
    "\n",
    "  thisplot[predicted_label].set_color('red')\n",
    "  thisplot[np.where(true_label)[0][0]].set_color('blue')    \n",
    "\n",
    "def plot_predictions(predictions, ground_truth, images, num_rows= 5, num_cols=3 ):\n",
    "\n",
    "    num_images = num_rows*num_cols\n",
    "    plt.figure(figsize=(2*2*num_cols, 2*num_rows))\n",
    "    for i in range(min(num_images,len(images))):\n",
    "        gt = np.where(ground_truth[i])[0][0]\n",
    "        plt.subplot(num_rows, 2*num_cols, 2*i+1)\n",
    "        plot_image(i, predictions[i], gt, images)\n",
    "        plt.subplot(num_rows, 2*num_cols, 2*i+2)\n",
    "        plot_value_array(i, predictions[i], ground_truth)\n",
    "    plt.tight_layout()\n",
    "    plt.show()\n",
    "    \n"
   ]
  },
  {
   "cell_type": "markdown",
   "metadata": {},
   "source": [
    "### Auxiliary functions to load images"
   ]
  },
  {
   "cell_type": "code",
   "execution_count": 3,
   "metadata": {},
   "outputs": [],
   "source": [
    "classNames = np.array(['00000','00001', '00002', '00003', '00004', '00005', '00006', '00007'])\n",
    "\n",
    "def get_label(file_path):\n",
    "  # convert the path to a list of path components\n",
    "  parts = tf.strings.split(file_path, os.path.sep)\n",
    "  # The second to last is the class-directory\n",
    "  return parts[-2] == classNames\n",
    "\n",
    "def decode_img(img):\n",
    "  # convert the compressed string to a 3D uint8 tensor\n",
    "  img = tf.image.decode_png(img, channels=3)\n",
    "  # Use `convert_image_dtype` to convert to floats in the [0,1] range.\n",
    "  img = tf.image.convert_image_dtype(img, tf.float32)\n",
    "  # resize the image to the desired size.\n",
    "  return tf.image.resize(img, [32,32])\n",
    "\n",
    "def get_bytes_and_label(file_path):\n",
    "  label = get_label(file_path)\n",
    "  # load the raw data from the file as a string\n",
    "  img = tf.io.read_file(file_path)\n",
    "  img = decode_img(img)\n",
    "  return img, label"
   ]
  },
  {
   "cell_type": "markdown",
   "metadata": {},
   "source": [
    "### Load images"
   ]
  },
  {
   "cell_type": "code",
   "execution_count": 5,
   "metadata": {},
   "outputs": [],
   "source": [
    "AUTOTUNE = tf.data.experimental.AUTOTUNE\n",
    "\n",
    "train_listset = tf.data.Dataset.list_files(\"C:/Users/obsession/Desktop/Data Augmentation/gtsrb/train_images/*/*.png\")\n",
    "train_set = train_listset.map(get_bytes_and_label, num_parallel_calls = AUTOTUNE)\n",
    "\n",
    "val_listset = tf.data.Dataset.list_files(\"C:/Users/obsession/Desktop/Data Augmentation/gtsrb//val_images/*/*.png\")\n",
    "val_set = val_listset.map(get_bytes_and_label, num_parallel_calls = AUTOTUNE)\n",
    "\n",
    "test_listset = tf.data.Dataset.list_files(\"C:/Users/obsession/Desktop/Data Augmentation/gtsrb//test_images_per_folder/*/*.png\")\n",
    "test_set = test_listset.map(get_bytes_and_label, num_parallel_calls = AUTOTUNE)"
   ]
  },
  {
   "cell_type": "markdown",
   "metadata": {},
   "source": [
    "### Print some data and compute dataset length"
   ]
  },
  {
   "cell_type": "code",
   "execution_count": 6,
   "metadata": {},
   "outputs": [
    {
     "name": "stdout",
     "output_type": "stream",
     "text": [
      "Image shape:  (32, 32, 3)\n",
      "Label:  [False False False False  True False False False]\n",
      "10200\n"
     ]
    }
   ],
   "source": [
    "for image, label in train_set.take(1):\n",
    "  print(\"Image shape: \", image.numpy().shape)\n",
    "  print(\"Label: \", label.numpy())\n",
    "\n",
    "dataset_length = [i for i,_ in enumerate(train_set)][-1] + 1\n",
    "print(dataset_length)\n"
   ]
  },
  {
   "cell_type": "markdown",
   "metadata": {},
   "source": [
    "### Prepare the dataset"
   ]
  },
  {
   "cell_type": "code",
   "execution_count": 7,
   "metadata": {},
   "outputs": [],
   "source": [
    "train_set = train_set.cache()\n",
    "train_set = train_set.shuffle(buffer_size=10200)\n",
    "train_set = train_set.batch(batch_size = BATCH_SIZE)\n",
    "train_set = train_set.prefetch(buffer_size = AUTOTUNE)\n",
    "train_set = train_set.repeat()\n",
    "\n",
    "val_set = val_set.cache()\n",
    "val_set = val_set.shuffle(buffer_size = 2580)\n",
    "val_set = val_set.batch(batch_size = BATCH_SIZE)\n",
    "val_set = val_set.prefetch(buffer_size = AUTOTUNE)\n",
    "val_set = val_set.repeat()"
   ]
  },
  {
   "cell_type": "markdown",
   "metadata": {},
   "source": [
    "### Prepare the test set"
   ]
  },
  {
   "cell_type": "code",
   "execution_count": 8,
   "metadata": {},
   "outputs": [
    {
     "name": "stdout",
     "output_type": "stream",
     "text": [
      "Number of batches:  131\n"
     ]
    }
   ],
   "source": [
    "test_set = test_set.batch(batch_size = BATCH_SIZE)\n",
    "\n",
    "testset_length = [i for i,_ in enumerate(test_set)][-1] + 1\n",
    "print('Number of batches: ', testset_length)"
   ]
  },
  {
   "cell_type": "markdown",
   "metadata": {},
   "source": [
    "## Model I - plain (only Conv layers)"
   ]
  },
  {
   "cell_type": "markdown",
   "metadata": {},
   "source": [
    "### Definition"
   ]
  },
  {
   "cell_type": "code",
   "execution_count": 9,
   "metadata": {},
   "outputs": [],
   "source": [
    "def model_I(classCount, imgSize, channels):\n",
    "    model = Sequential()\n",
    "    \n",
    "    model.add(Conv2D(64, (5, 5), \n",
    "                     input_shape=(imgSize, imgSize, channels)\n",
    "                     ))         \n",
    "    model.add(LeakyReLU(alpha=0.01))     \n",
    "                                \n",
    "    model.add(Conv2D(64, (5, 5) )) \n",
    "    model.add(LeakyReLU(alpha=0.01))\n",
    "\n",
    "    model.add(Conv2D(64, (5, 5) ) )   \n",
    "    model.add(LeakyReLU(alpha=0.01))\n",
    "    \n",
    "    model.add(Flatten())\n",
    "    model.add(Dense(128))\n",
    "    model.add(LeakyReLU(alpha=0.01))             \n",
    "\n",
    "    model.add(Dense(classCount, activation='softmax'))\n",
    "\n",
    "    \n",
    "    opt = Adam(lr=0.0001)\n",
    "    model.compile(optimizer = opt, loss='categorical_crossentropy', metrics=[ 'accuracy'])\n",
    "    return model\n"
   ]
  },
  {
   "cell_type": "markdown",
   "metadata": {},
   "source": [
    "### Create the models and display stats"
   ]
  },
  {
   "cell_type": "code",
   "execution_count": 10,
   "metadata": {},
   "outputs": [
    {
     "name": "stdout",
     "output_type": "stream",
     "text": [
      "Model: \"sequential\"\n",
      "_________________________________________________________________\n",
      "Layer (type)                 Output Shape              Param #   \n",
      "=================================================================\n",
      "conv2d (Conv2D)              (None, 28, 28, 64)        4864      \n",
      "_________________________________________________________________\n",
      "leaky_re_lu (LeakyReLU)      (None, 28, 28, 64)        0         \n",
      "_________________________________________________________________\n",
      "conv2d_1 (Conv2D)            (None, 24, 24, 64)        102464    \n",
      "_________________________________________________________________\n",
      "leaky_re_lu_1 (LeakyReLU)    (None, 24, 24, 64)        0         \n",
      "_________________________________________________________________\n",
      "conv2d_2 (Conv2D)            (None, 20, 20, 64)        102464    \n",
      "_________________________________________________________________\n",
      "leaky_re_lu_2 (LeakyReLU)    (None, 20, 20, 64)        0         \n",
      "_________________________________________________________________\n",
      "flatten (Flatten)            (None, 25600)             0         \n",
      "_________________________________________________________________\n",
      "dense (Dense)                (None, 128)               3276928   \n",
      "_________________________________________________________________\n",
      "leaky_re_lu_3 (LeakyReLU)    (None, 128)               0         \n",
      "_________________________________________________________________\n",
      "dense_1 (Dense)              (None, 8)                 1032      \n",
      "=================================================================\n",
      "Total params: 3,487,752\n",
      "Trainable params: 3,487,752\n",
      "Non-trainable params: 0\n",
      "_________________________________________________________________\n",
      "None\n"
     ]
    },
    {
     "name": "stderr",
     "output_type": "stream",
     "text": [
      "C:\\Users\\obsession\\anaconda3\\envs\\DAA\\lib\\site-packages\\tensorflow\\python\\keras\\optimizer_v2\\optimizer_v2.py:374: UserWarning: The `lr` argument is deprecated, use `learning_rate` instead.\n",
      "  warnings.warn(\n"
     ]
    }
   ],
   "source": [
    "modelV1 = model_I(8, 32, 3)\n",
    "\n",
    "print(modelV1.summary())"
   ]
  },
  {
   "cell_type": "markdown",
   "metadata": {},
   "source": [
    "### Callback definition\n",
    "\n",
    " - saving model weights at the best epoch considering validation accuracy\n",
    " - early stopping when validation accuracy no longer drops for a number of epochs\n",
    " - record session to be available on tensorboard.\n",
    "    \n",
    "Go to folder where logs are locatted and call >tensorboard --logdir logs\n",
    "\n",
    "then open a browser and go to:\n",
    "\n",
    "http://localhost:6006/    "
   ]
  },
  {
   "cell_type": "code",
   "execution_count": 13,
   "metadata": {},
   "outputs": [],
   "source": [
    "from tensorflow.keras.callbacks import ModelCheckpoint, EarlyStopping, TensorBoard\n",
    "\n",
    "file_pathV1 = 'C:/Users/obsession/Desktop/Data Augmentation/gtsrb/best_modelV1/cp.ckpt'\n",
    "checkpointerV1 = ModelCheckpoint(filepath= file_pathV1, \n",
    "                               monitor = 'val_accuracy',\n",
    "                               verbose = 1, \n",
    "                               save_weights_only=True,\n",
    "                               save_best_only=True)\n",
    "\n",
    "\n",
    "earlyStopperV1 = EarlyStopping(monitor='val_accuracy', min_delta = 0.0001, patience = 8, verbose = 1)\n",
    "\n",
    "tbCallBackV1 = TensorBoard(log_dir='logV1', histogram_freq=0, write_graph=True, write_images=True)"
   ]
  },
  {
   "cell_type": "markdown",
   "metadata": {},
   "source": [
    "### Train model"
   ]
  },
  {
   "cell_type": "code",
   "execution_count": 14,
   "metadata": {},
   "outputs": [
    {
     "name": "stdout",
     "output_type": "stream",
     "text": [
      "Epoch 1/20\n",
      "318/318 [==============================] - 5s 17ms/step - loss: 0.2045 - accuracy: 0.9404 - val_loss: 0.3535 - val_accuracy: 0.8888\n",
      "\n",
      "Epoch 00001: val_accuracy improved from -inf to 0.88876, saving model to C:/Users/obsession/Desktop/Data Augmentation/gtsrb/best_modelV1\\cp.ckpt\n",
      "Epoch 2/20\n",
      "318/318 [==============================] - 7s 22ms/step - loss: 0.1074 - accuracy: 0.9720 - val_loss: 0.2722 - val_accuracy: 0.9205\n",
      "\n",
      "Epoch 00002: val_accuracy improved from 0.88876 to 0.92054, saving model to C:/Users/obsession/Desktop/Data Augmentation/gtsrb/best_modelV1\\cp.ckpt\n",
      "Epoch 3/20\n",
      "318/318 [==============================] - 7s 22ms/step - loss: 0.0633 - accuracy: 0.9844 - val_loss: 0.2841 - val_accuracy: 0.9163\n",
      "\n",
      "Epoch 00003: val_accuracy did not improve from 0.92054\n",
      "Epoch 4/20\n",
      "318/318 [==============================] - 4s 14ms/step - loss: 0.0454 - accuracy: 0.9877 - val_loss: 0.2459 - val_accuracy: 0.9233\n",
      "\n",
      "Epoch 00004: val_accuracy improved from 0.92054 to 0.92326, saving model to C:/Users/obsession/Desktop/Data Augmentation/gtsrb/best_modelV1\\cp.ckpt\n",
      "Epoch 5/20\n",
      "318/318 [==============================] - 7s 22ms/step - loss: 0.0282 - accuracy: 0.9914 - val_loss: 0.2243 - val_accuracy: 0.9333\n",
      "\n",
      "Epoch 00005: val_accuracy improved from 0.92326 to 0.93333, saving model to C:/Users/obsession/Desktop/Data Augmentation/gtsrb/best_modelV1\\cp.ckpt\n",
      "Epoch 6/20\n",
      "318/318 [==============================] - 7s 22ms/step - loss: 0.0210 - accuracy: 0.9944 - val_loss: 0.3582 - val_accuracy: 0.8981\n",
      "\n",
      "Epoch 00006: val_accuracy did not improve from 0.93333\n",
      "Epoch 7/20\n",
      "318/318 [==============================] - 4s 14ms/step - loss: 0.0210 - accuracy: 0.9939 - val_loss: 0.2607 - val_accuracy: 0.9264\n",
      "\n",
      "Epoch 00007: val_accuracy did not improve from 0.93333\n",
      "Epoch 8/20\n",
      "318/318 [==============================] - 7s 22ms/step - loss: 0.0085 - accuracy: 0.9979 - val_loss: 0.2272 - val_accuracy: 0.9453\n",
      "\n",
      "Epoch 00008: val_accuracy improved from 0.93333 to 0.94535, saving model to C:/Users/obsession/Desktop/Data Augmentation/gtsrb/best_modelV1\\cp.ckpt\n",
      "Epoch 9/20\n",
      "318/318 [==============================] - 4s 14ms/step - loss: 0.0095 - accuracy: 0.9975 - val_loss: 0.6618 - val_accuracy: 0.8674\n",
      "\n",
      "Epoch 00009: val_accuracy did not improve from 0.94535\n",
      "Epoch 10/20\n",
      "318/318 [==============================] - 7s 22ms/step - loss: 0.0147 - accuracy: 0.9959 - val_loss: 0.2269 - val_accuracy: 0.9388\n",
      "\n",
      "Epoch 00010: val_accuracy did not improve from 0.94535\n",
      "Epoch 11/20\n",
      "318/318 [==============================] - 7s 22ms/step - loss: 0.0067 - accuracy: 0.9984 - val_loss: 0.2269 - val_accuracy: 0.9434\n",
      "\n",
      "Epoch 00011: val_accuracy did not improve from 0.94535\n",
      "Epoch 12/20\n",
      "318/318 [==============================] - 4s 14ms/step - loss: 0.0043 - accuracy: 0.9987 - val_loss: 0.2108 - val_accuracy: 0.9516\n",
      "\n",
      "Epoch 00012: val_accuracy improved from 0.94535 to 0.95155, saving model to C:/Users/obsession/Desktop/Data Augmentation/gtsrb/best_modelV1\\cp.ckpt\n",
      "Epoch 13/20\n",
      "318/318 [==============================] - 7s 22ms/step - loss: 0.0049 - accuracy: 0.9987 - val_loss: 0.2571 - val_accuracy: 0.9388\n",
      "\n",
      "Epoch 00013: val_accuracy did not improve from 0.95155\n",
      "Epoch 14/20\n",
      "318/318 [==============================] - 4s 14ms/step - loss: 5.0357e-04 - accuracy: 1.0000 - val_loss: 0.2484 - val_accuracy: 0.9453\n",
      "\n",
      "Epoch 00014: val_accuracy did not improve from 0.95155\n",
      "Epoch 15/20\n",
      "318/318 [==============================] - 7s 22ms/step - loss: 2.1267e-04 - accuracy: 1.0000 - val_loss: 0.2870 - val_accuracy: 0.9446\n",
      "\n",
      "Epoch 00015: val_accuracy did not improve from 0.95155\n",
      "Epoch 16/20\n",
      "318/318 [==============================] - 7s 22ms/step - loss: 1.3452e-04 - accuracy: 1.0000 - val_loss: 0.2934 - val_accuracy: 0.9430\n",
      "\n",
      "Epoch 00016: val_accuracy did not improve from 0.95155\n",
      "Epoch 17/20\n",
      "318/318 [==============================] - 4s 14ms/step - loss: 1.0029e-04 - accuracy: 1.0000 - val_loss: 0.3019 - val_accuracy: 0.9430\n",
      "\n",
      "Epoch 00017: val_accuracy did not improve from 0.95155\n",
      "Epoch 18/20\n",
      "318/318 [==============================] - 7s 22ms/step - loss: 7.7116e-05 - accuracy: 1.0000 - val_loss: 0.3127 - val_accuracy: 0.9419\n",
      "\n",
      "Epoch 00018: val_accuracy did not improve from 0.95155\n",
      "Epoch 19/20\n",
      "318/318 [==============================] - 4s 14ms/step - loss: 6.7335e-05 - accuracy: 1.0000 - val_loss: 0.3167 - val_accuracy: 0.9422\n",
      "\n",
      "Epoch 00019: val_accuracy did not improve from 0.95155\n",
      "Epoch 20/20\n",
      "318/318 [==============================] - 7s 22ms/step - loss: 5.5054e-05 - accuracy: 1.0000 - val_loss: 0.3274 - val_accuracy: 0.9419\n",
      "\n",
      "Epoch 00020: val_accuracy did not improve from 0.95155\n",
      "Epoch 00020: early stopping\n"
     ]
    }
   ],
   "source": [
    "historyV1 = modelV1.fit(train_set, steps_per_epoch = dataset_length/BATCH_SIZE,\n",
    "          epochs=20, \n",
    "          validation_data = val_set, \n",
    "          validation_steps= 2580/BATCH_SIZE,\n",
    "          callbacks=[checkpointerV1, earlyStopperV1, tbCallBackV1 ])"
   ]
  },
  {
   "cell_type": "markdown",
   "metadata": {},
   "source": [
    "### Show graphs for accuracy and loss history"
   ]
  },
  {
   "cell_type": "code",
   "execution_count": 15,
   "metadata": {},
   "outputs": [
    {
     "name": "stdout",
     "output_type": "stream",
     "text": [
      "dict_keys(['loss', 'accuracy', 'val_loss', 'val_accuracy'])\n"
     ]
    },
    {
     "data": {
      "image/png": "[encoded data removed]",
      "text/plain": [
       "<Figure size 432x288 with 1 Axes>"
      ]
     },
     "metadata": {
      "needs_background": "light"
     },
     "output_type": "display_data"
    },
    {
     "data": {
      "image/png": "[encoded data removed]",
      "text/plain": [
       "<Figure size 432x288 with 1 Axes>"
      ]
     },
     "metadata": {
      "needs_background": "light"
     },
     "output_type": "display_data"
    }
   ],
   "source": [
    "show_history(historyV1)"
   ]
  },
  {
   "cell_type": "markdown",
   "metadata": {},
   "source": [
    "### Load weights for best epoch and evaluate model\n",
    "\n",
    "Notice how the validation set accuracy differs from the test set accuracy. Why?"
   ]
  },
  {
   "cell_type": "code",
   "execution_count": 16,
   "metadata": {
    "slideshow": {
     "slide_type": "fragment"
    },
    "tags": []
   },
   "outputs": [
    {
     "name": "stdout",
     "output_type": "stream",
     "text": [
      "131/131 - 1s - loss: 0.3759 - accuracy: 0.9463\n",
      "[0.37586715817451477, 0.9462829828262329]\n",
      "80/80 - 3s - loss: 0.2108 - accuracy: 0.9516\n"
     ]
    }
   ],
   "source": [
    "modelV1.load_weights(file_pathV1)\n",
    "evalV1 = modelV1.evaluate(test_set, verbose=2)\n",
    "print(evalV1)\n",
    "\n",
    "valV1 = modelV1.evaluate(val_set, steps= 2580/BATCH_SIZE, verbose=2)"
   ]
  },
  {
   "cell_type": "code",
   "execution_count": null,
   "metadata": {},
   "outputs": [],
   "source": []
  }
 ],
 "metadata": {
  "kernelspec": {
   "display_name": "Python 3 (ipykernel)",
   "language": "python",
   "name": "python3"
  },
  "language_info": {
   "codemirror_mode": {
    "name": "ipython",
    "version": 3
   },
   "file_extension": ".py",
   "mimetype": "text/x-python",
   "name": "python",
   "nbconvert_exporter": "python",
   "pygments_lexer": "ipython3",
   "version": "3.9.7"
  },
  "toc-autonumbering": false,
  "toc-showcode": false,
  "toc-showmarkdowntxt": false
 },
 "nbformat": 4,
 "nbformat_minor": 4
}
