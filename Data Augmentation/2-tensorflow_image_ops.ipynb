{
 "cells": [
  {
   "cell_type": "markdown",
   "metadata": {},
   "source": [
    "## Image Operations in Tensorflow\n",
    "\n",
    "This notebook explores the tensorflow APIs for image processing, both in the main as well as the addons package.\n",
    "\n",
    "#### Refs:\n",
    "    \n",
    "* https://www.tensorflow.org/api_docs/python/tf/image\n",
    "* https://www.tensorflow.org/addons/api_docs/python/tfa/image"
   ]
  },
  {
   "cell_type": "code",
   "execution_count": 3,
   "metadata": {},
   "outputs": [],
   "source": [
    "import PIL\n",
    "from PIL import Image\n",
    "import os\n",
    "import numpy as np\n",
    "\n",
    "#from tensorflow.keras.utils import np_utils\n",
    "import tensorflow as tf\n",
    "import tensorflow_addons as tfa\n",
    "\n",
    "import matplotlib.pyplot as plt"
   ]
  },
  {
   "cell_type": "code",
   "execution_count": 4,
   "metadata": {},
   "outputs": [],
   "source": [
    "image = Image.open('a.JPG')\n",
    "image = np.asarray(image, dtype=\"float32\")/255.0\n"
   ]
  },
  {
   "cell_type": "markdown",
   "metadata": {},
   "source": [
    "Aux function: show trio of images"
   ]
  },
  {
   "cell_type": "code",
   "execution_count": 5,
   "metadata": {},
   "outputs": [],
   "source": [
    "def show_trio(a,b,c):\n",
    "    _, ax = plt.subplots(1,3, figsize=(9,3))\n",
    "    ax[0].imshow(a)\n",
    "    ax[1].imshow(b)\n",
    "    ax[2].imshow(c)\n",
    "    plt.show()\n",
    "    \n"
   ]
  },
  {
   "cell_type": "markdown",
   "metadata": {},
   "source": [
    "## Brightness"
   ]
  },
  {
   "cell_type": "code",
   "execution_count": 6,
   "metadata": {},
   "outputs": [
    {
     "data": {
      "image/png": "[encoded data removed]",
      "text/plain": [
       "<Figure size 648x216 with 3 Axes>"
      ]
     },
     "metadata": {
      "needs_background": "light"
     },
     "output_type": "display_data"
    }
   ],
   "source": [
    "img1 = tf.clip_by_value(tf.image.adjust_brightness(image, delta=0.25), 0.0, 1.0)\n",
    "\n",
    "# range [-max_delta, max_delta]\n",
    "img2 = tf.clip_by_value(tf.image.random_brightness(image, max_delta = 0.25), 0, 1)\n",
    "\n",
    "show_trio(image, img1, img2)"
   ]
  },
  {
   "cell_type": "markdown",
   "metadata": {},
   "source": [
    "## Contrast"
   ]
  },
  {
   "cell_type": "code",
   "execution_count": 7,
   "metadata": {},
   "outputs": [
    {
     "data": {
      "image/png": "[encoded data removed]",
      "text/plain": [
       "<Figure size 648x216 with 3 Axes>"
      ]
     },
     "metadata": {
      "needs_background": "light"
     },
     "output_type": "display_data"
    }
   ],
   "source": [
    "img1 = tf.clip_by_value(tf.image.adjust_contrast(image, contrast_factor = 3), 0.0, 1.0)\n",
    "\n",
    "# lower and upper > 0\n",
    "img2 = tf.clip_by_value(tf.image.random_contrast(image, lower=0.7, upper=2.0, seed=None), 0, 1)\n",
    "\n",
    "show_trio(image, img1, img2)"
   ]
  },
  {
   "cell_type": "markdown",
   "metadata": {},
   "source": [
    "## Hue"
   ]
  },
  {
   "cell_type": "code",
   "execution_count": 8,
   "metadata": {},
   "outputs": [
    {
     "ename": "InvalidArgumentError",
     "evalue": "input must have 3 channels but instead has 4 channels. [Op:AdjustHue]",
     "output_type": "error",
     "traceback": [
      "\u001b[1;31m---------------------------------------------------------------------------\u001b[0m",
      "\u001b[1;31mInvalidArgumentError\u001b[0m                      Traceback (most recent call last)",
      "Input \u001b[1;32mIn [8]\u001b[0m, in \u001b[0;36m<module>\u001b[1;34m\u001b[0m\n\u001b[1;32m----> 1\u001b[0m img1 \u001b[38;5;241m=\u001b[39m \u001b[43mtf\u001b[49m\u001b[38;5;241;43m.\u001b[39;49m\u001b[43mimage\u001b[49m\u001b[38;5;241;43m.\u001b[39;49m\u001b[43madjust_hue\u001b[49m\u001b[43m(\u001b[49m\u001b[43mimage\u001b[49m\u001b[43m,\u001b[49m\u001b[43m \u001b[49m\u001b[43mdelta\u001b[49m\u001b[38;5;241;43m=\u001b[39;49m\u001b[38;5;241;43m-\u001b[39;49m\u001b[38;5;241;43m0.3\u001b[39;49m\u001b[43m)\u001b[49m\n\u001b[0;32m      3\u001b[0m \u001b[38;5;66;03m# max_delta in [0, 0.5]\u001b[39;00m\n\u001b[0;32m      4\u001b[0m img2 \u001b[38;5;241m=\u001b[39m tf\u001b[38;5;241m.\u001b[39mimage\u001b[38;5;241m.\u001b[39mrandom_hue(image, max_delta\u001b[38;5;241m=\u001b[39m\u001b[38;5;241m0.20\u001b[39m, seed\u001b[38;5;241m=\u001b[39m\u001b[38;5;28;01mNone\u001b[39;00m)\n",
      "File \u001b[1;32m~\\anaconda3\\envs\\VI\\lib\\site-packages\\tensorflow\\python\\util\\traceback_utils.py:153\u001b[0m, in \u001b[0;36mfilter_traceback.<locals>.error_handler\u001b[1;34m(*args, **kwargs)\u001b[0m\n\u001b[0;32m    151\u001b[0m \u001b[38;5;28;01mexcept\u001b[39;00m \u001b[38;5;167;01mException\u001b[39;00m \u001b[38;5;28;01mas\u001b[39;00m e:\n\u001b[0;32m    152\u001b[0m   filtered_tb \u001b[38;5;241m=\u001b[39m _process_traceback_frames(e\u001b[38;5;241m.\u001b[39m__traceback__)\n\u001b[1;32m--> 153\u001b[0m   \u001b[38;5;28;01mraise\u001b[39;00m e\u001b[38;5;241m.\u001b[39mwith_traceback(filtered_tb) \u001b[38;5;28;01mfrom\u001b[39;00m \u001b[38;5;28mNone\u001b[39m\n\u001b[0;32m    154\u001b[0m \u001b[38;5;28;01mfinally\u001b[39;00m:\n\u001b[0;32m    155\u001b[0m   \u001b[38;5;28;01mdel\u001b[39;00m filtered_tb\n",
      "File \u001b[1;32m~\\anaconda3\\envs\\VI\\lib\\site-packages\\tensorflow\\python\\framework\\ops.py:7186\u001b[0m, in \u001b[0;36mraise_from_not_ok_status\u001b[1;34m(e, name)\u001b[0m\n\u001b[0;32m   7184\u001b[0m \u001b[38;5;28;01mdef\u001b[39;00m \u001b[38;5;21mraise_from_not_ok_status\u001b[39m(e, name):\n\u001b[0;32m   7185\u001b[0m   e\u001b[38;5;241m.\u001b[39mmessage \u001b[38;5;241m+\u001b[39m\u001b[38;5;241m=\u001b[39m (\u001b[38;5;124m\"\u001b[39m\u001b[38;5;124m name: \u001b[39m\u001b[38;5;124m\"\u001b[39m \u001b[38;5;241m+\u001b[39m name \u001b[38;5;28;01mif\u001b[39;00m name \u001b[38;5;129;01mis\u001b[39;00m \u001b[38;5;129;01mnot\u001b[39;00m \u001b[38;5;28;01mNone\u001b[39;00m \u001b[38;5;28;01melse\u001b[39;00m \u001b[38;5;124m\"\u001b[39m\u001b[38;5;124m\"\u001b[39m)\n\u001b[1;32m-> 7186\u001b[0m   \u001b[38;5;28;01mraise\u001b[39;00m core\u001b[38;5;241m.\u001b[39m_status_to_exception(e) \u001b[38;5;28;01mfrom\u001b[39;00m \u001b[38;5;28mNone\u001b[39m\n",
      "\u001b[1;31mInvalidArgumentError\u001b[0m: input must have 3 channels but instead has 4 channels. [Op:AdjustHue]"
     ]
    }
   ],
   "source": [
    "img1 = tf.image.adjust_hue(image, delta=-0.3)\n",
    "\n",
    "# max_delta in [0, 0.5]\n",
    "img2 = tf.image.random_hue(image, max_delta=0.20, seed=None)\n",
    "\n",
    "show_trio(image, img1, img2)"
   ]
  },
  {
   "cell_type": "markdown",
   "metadata": {},
   "source": [
    "## Saturation"
   ]
  },
  {
   "cell_type": "code",
   "execution_count": null,
   "metadata": {},
   "outputs": [],
   "source": [
    "img1 = tf.image.adjust_saturation(image, saturation_factor=-0.3)\n",
    "\n",
    "\n",
    "# lower > 0\n",
    "img2 = tf.image.random_saturation(image, lower=0.6, upper= 1.4, seed=None)\n",
    "\n",
    "show_trio(image, img1, img2)"
   ]
  },
  {
   "cell_type": "markdown",
   "metadata": {},
   "source": [
    "## Crop"
   ]
  },
  {
   "cell_type": "code",
   "execution_count": null,
   "metadata": {},
   "outputs": [],
   "source": [
    "shape = list(image.shape)\n",
    "print(shape)\n",
    "img1 = tf.image.random_crop(image, size = [int(shape[0] * 0.8), int(shape[1] * 0.8), 3])\n",
    "img1 = tf.image.resize(img1 , size = shape[:2])\n",
    "\n",
    "c = tf.random.uniform(shape=(), minval=shape[0] * 0.8, maxval=shape[0], dtype=tf.dtypes.float32)\n",
    "img2 = tf.image.random_crop(image, size=[c,c,3])\n",
    "\n",
    "show_trio(image, img1, img2)"
   ]
  },
  {
   "cell_type": "markdown",
   "metadata": {},
   "source": [
    "## Flip"
   ]
  },
  {
   "cell_type": "code",
   "execution_count": null,
   "metadata": {},
   "outputs": [],
   "source": [
    "img1 = tf.image.random_flip_left_right(image)\n",
    "\n",
    "img2 = tf.image.random_flip_up_down(image)\n",
    "\n",
    "show_trio(image, img1, img2)"
   ]
  },
  {
   "cell_type": "markdown",
   "metadata": {},
   "source": [
    "# With tfa.image\n",
    "\n",
    "Requires tensorflow 2.4 to work in some operations"
   ]
  },
  {
   "cell_type": "markdown",
   "metadata": {},
   "source": [
    "## Rotate"
   ]
  },
  {
   "cell_type": "code",
   "execution_count": null,
   "metadata": {},
   "outputs": [],
   "source": [
    "img1 = tfa.image.rotate(image, 0.707, fill_mode='nearest')\n",
    "img2 = tfa.image.rotate(image, tf.random.uniform(shape=(), minval=-0.175, maxval=0.175))\n",
    "\n",
    "show_trio(image, img1, img2)\n",
    "\n"
   ]
  },
  {
   "cell_type": "markdown",
   "metadata": {},
   "source": [
    "## Translate"
   ]
  },
  {
   "cell_type": "code",
   "execution_count": null,
   "metadata": {},
   "outputs": [],
   "source": [
    "tx = tf.random.uniform(shape=(), minval=-3, maxval=3, dtype=tf.dtypes.float32)\n",
    "ty = tf.random.uniform(shape=(), minval=-3, maxval=3, dtype=tf.dtypes.float32)  \n",
    "\n",
    "img1 = tfa.image.translate(image, [tx,ty])\n",
    "   \n",
    "img2 = tfa.image.translate(image, [10,-10])    \n",
    "show_trio(image, img1, img2)\n"
   ]
  },
  {
   "cell_type": "markdown",
   "metadata": {},
   "source": [
    "## Shear"
   ]
  },
  {
   "cell_type": "code",
   "execution_count": null,
   "metadata": {},
   "outputs": [],
   "source": [
    "img1 = tfa.image.shear_x(image, 0.5, replace = [0,0,0])\n",
    "\n",
    "sx = tf.random.uniform(shape=(), minval=-0.15, maxval=0.15, dtype=tf.dtypes.float32)\n",
    "img2 = tfa.image.shear_x(image, sx, replace = [0,0,0])\n",
    "sy = tf.random.uniform(shape=(), minval=-0.15, maxval=0.15, dtype=tf.dtypes.float32)\n",
    "img2 = tfa.image.shear_y(img2, sy, replace = [0,0,0])   \n",
    "\n",
    "\n",
    "show_trio(image, img1, img2)"
   ]
  },
  {
   "cell_type": "markdown",
   "metadata": {},
   "source": [
    "## Transform\n",
    "\n",
    "tfa.ima.transform(image, [a0, a1, a2, b0, b1, b2, c0, c1], fill_mode)\n",
    "\n",
    "Considering a pixel $(x'', y'')$ this pixel will be remapped to location $(x, y) $ where the relation between these points is as below:\n",
    "\n",
    "$ \\begin{bmatrix}\n",
    "x' \\\\\n",
    "y' \\\\\n",
    "z'\n",
    "\\end{bmatrix} =  \\begin{bmatrix}\n",
    "a_0 & a_1 & a_2\\\\\n",
    "b_0 & b_1 & b_2\\\\\n",
    "c_0 & c_1 & 1\n",
    "\\end{bmatrix}  \\begin{bmatrix}\n",
    "x \\\\\n",
    "y \\\\\n",
    "1\n",
    "\\end{bmatrix}$\n",
    "\n",
    "and \n",
    "\n",
    "$(x'', y'') = (\\Large \\frac{x'}{z'}, \\frac{y'}{z'}) $\n",
    "\n",
    "\n",
    "\n",
    "documentation [link](https://www.tensorflow.org/addons/api_docs/python/tfa/image/transform)\n",
    "\n",
    "\n",
    "\n",
    "centre shear_x($k$) = transform($1, k, -k*w*0.5, 0, 1, 0, 0, 0$)"
   ]
  },
  {
   "cell_type": "code",
   "execution_count": null,
   "metadata": {},
   "outputs": [],
   "source": [
    "print(image.shape)\n",
    "\n",
    "angle = 30\n",
    "m = tf.tan(angle*3.14159/180)\n",
    "img1 = tfa.image.transform(image, [1, m, -image.shape[0]*m * 0.5,   0,1,0,  0,0], fill_mode='nearest')\n",
    "\n",
    "i = 0.57735 # this is already the tangent\n",
    "img2 = tfa.image.transform(image, [1, i, -image.shape[0]*i*0.5,    0 ,1, 0,   0,0], fill_mode='nearest')\n",
    "\n",
    "show_trio(image, img1, img2)"
   ]
  },
  {
   "cell_type": "code",
   "execution_count": null,
   "metadata": {},
   "outputs": [],
   "source": [
    "img1 = tf.keras.preprocessing.image.random_shear(image, 45,row_axis=0, col_axis=1, channel_axis=2)\n",
    "\n",
    "img2 = tfa.image.rotate(image, tf.random.uniform(shape=(), minval=-0.175, maxval=0.175), fill_mode='nearest')\n",
    "img2 = tf.keras.preprocessing.image.random_shear(img2.numpy(), 5 ,row_axis=0, col_axis=1, channel_axis=2)\n",
    "\n",
    "show_trio(image, img1, img2)"
   ]
  },
  {
   "cell_type": "code",
   "execution_count": null,
   "metadata": {},
   "outputs": [],
   "source": [
    "img1 = tfa.image.rotate(image, tf.random.uniform(shape=(), minval=-0.175, maxval=0.175), fill_mode='nearest')\n",
    "\n",
    "img2 = tf.keras.preprocessing.image.random_shear(img1.numpy(), 15 ,row_axis=0, col_axis=1, channel_axis=2)\n",
    "\n",
    "show_trio(image, img1, img2)"
   ]
  },
  {
   "cell_type": "code",
   "execution_count": null,
   "metadata": {},
   "outputs": [],
   "source": [
    "angle = tf.random.uniform(shape=(), minval=-2.0, maxval=2.0)\n",
    "print(angle)"
   ]
  },
  {
   "cell_type": "code",
   "execution_count": null,
   "metadata": {},
   "outputs": [],
   "source": []
  }
 ],
 "metadata": {
  "kernelspec": {
   "display_name": "Python 3 (ipykernel)",
   "language": "python",
   "name": "python3"
  },
  "language_info": {
   "codemirror_mode": {
    "name": "ipython",
    "version": 3
   },
   "file_extension": ".py",
   "mimetype": "text/x-python",
   "name": "python",
   "nbconvert_exporter": "python",
   "pygments_lexer": "ipython3",
   "version": "3.9.10"
  }
 },
 "nbformat": 4,
 "nbformat_minor": 4
}
